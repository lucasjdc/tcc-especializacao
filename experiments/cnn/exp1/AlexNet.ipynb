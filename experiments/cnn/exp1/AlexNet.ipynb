{
  "nbformat": 4,
  "nbformat_minor": 0,
  "metadata": {
    "colab": {
      "provenance": [],
      "gpuType": "T4"
    },
    "kernelspec": {
      "name": "python3",
      "display_name": "Python 3"
    },
    "language_info": {
      "name": "python"
    },
    "accelerator": "GPU"
  },
  "cells": [
    {
      "cell_type": "markdown",
      "source": [
        "**Modelo AlexNet**<br>\n",
        "Link do Colab: https://colab.research.google.com/drive/1kRZDUngwii5Ji3nyqt90IGFhjsUkWtoT#scrollTo=rFO8H-ISsASG"
      ],
      "metadata": {
        "id": "rFO8H-ISsASG"
      }
    },
    {
      "cell_type": "code",
      "execution_count": null,
      "metadata": {
        "id": "TSJ4DdzGt7bX"
      },
      "outputs": [],
      "source": [
        "import kagglehub\n",
        "from PIL import Image\n",
        "import io\n",
        "import random\n",
        "import torch\n",
        "import numpy as np\n",
        "from torch.utils.data import Dataset, DataLoader\n",
        "from torchvision import transforms, models\n",
        "import matplotlib.pyplot as plt\n",
        "import seaborn as sns\n",
        "import pandas as pd\n",
        "from sklearn.metrics import accuracy_score, precision_score, recall_score, f1_score, classification_report, confusion_matrix\n",
        "import torch.nn as nn\n",
        "import torch.optim as optim\n",
        "import os\n",
        "import csv\n",
        "import time"
      ]
    },
    {
      "cell_type": "code",
      "source": [
        "def set_seed(seed=42):\n",
        "  random.seed(seed)\n",
        "  np.random.seed(seed)\n",
        "  torch.manual_seed(seed)\n",
        "  torch.cuda.manual_seed_all(seed)  # se usar multi-GPU\n",
        "  torch.backends.cudnn.deterministic = True\n",
        "  torch.backends.cudnn.benchmark = False\n",
        "\n",
        "# Fixar a seed para reprodutividade\n",
        "set_seed()"
      ],
      "metadata": {
        "id": "NQoUxxU28wPr"
      },
      "execution_count": null,
      "outputs": []
    },
    {
      "cell_type": "code",
      "source": [
        "# Download latest version\n",
        "path = kagglehub.dataset_download(\"borhanitrash/alzheimer-mri-disease-classification-dataset\")\n",
        "\n",
        "print(\"Path to dataset files:\", path)\n",
        "\n",
        "# Caminho para o dataset\n",
        "train_path = '/kaggle/input/alzheimer-mri-disease-classification-dataset/Alzheimer MRI Disease Classification Dataset/Data/train-00000-of-00001-c08a401c53fe5312.parquet'\n",
        "\n",
        "# Carrega o parquet\n",
        "df = pd.read_parquet(train_path)"
      ],
      "metadata": {
        "colab": {
          "base_uri": "https://localhost:8080/"
        },
        "id": "wrn5Pu05uAb4",
        "outputId": "4c7d224a-c89b-490e-8bd5-62669382ec91"
      },
      "execution_count": null,
      "outputs": [
        {
          "output_type": "stream",
          "name": "stdout",
          "text": [
            "Path to dataset files: /kaggle/input/alzheimer-mri-disease-classification-dataset\n"
          ]
        }
      ]
    },
    {
      "cell_type": "code",
      "source": [
        "# Label map\n",
        "label_map = {\n",
        "    0: \"Mild_Demented\",\n",
        "    1: \"Moderate_Demented\",\n",
        "    2: \"Non_Demented\",\n",
        "    3: \"Very_Mild_Demented\"\n",
        "}"
      ],
      "metadata": {
        "id": "NdqGV_2-uEK9"
      },
      "execution_count": null,
      "outputs": []
    },
    {
      "cell_type": "code",
      "source": [
        "# Transforms padrão para ResNet\n",
        "transform = transforms.Compose([\n",
        "    transforms.Resize((224,224)),\n",
        "    transforms.ToTensor(),\n",
        "    transforms.Normalize(mean=[0.485, 0.456, 0.406],    # padrão ImageNet\n",
        "                        std=[0.229, 0.224, 0.225])\n",
        "])"
      ],
      "metadata": {
        "id": "4-4bUdK9uHgz"
      },
      "execution_count": null,
      "outputs": []
    },
    {
      "cell_type": "code",
      "source": [
        "# Dataset customizado\n",
        "class AlzheimerDataset(Dataset):\n",
        "    def __init__(self, dataframe, transform=None):\n",
        "        self.df = dataframe\n",
        "        self.transform = transform\n",
        "\n",
        "    def __len__(self):\n",
        "        return len(self.df)\n",
        "\n",
        "    def __getitem__(self, idx):\n",
        "        img_bytes = self.df.iloc[idx]['image']['bytes']\n",
        "        label = self.df.iloc[idx]['label']\n",
        "        image = Image.open(io.BytesIO(img_bytes)).convert('RGB')\n",
        "        if self.transform:\n",
        "            image = self.transform(image)\n",
        "        return image, label"
      ],
      "metadata": {
        "id": "7L0jBxV-uM3Q"
      },
      "execution_count": null,
      "outputs": []
    },
    {
      "cell_type": "code",
      "source": [
        "# Criação do dataset e dataloader\n",
        "dataset = AlzheimerDataset(df, transform=transform)\n",
        "dataloader = DataLoader(dataset, batch_size=16, shuffle=True)"
      ],
      "metadata": {
        "id": "vStu_t6luONa"
      },
      "execution_count": null,
      "outputs": []
    },
    {
      "cell_type": "markdown",
      "source": [
        "A AlexNet foi introduzida em 2012 na competição **ImageNet Large Scale Visual Recognition Challenge** é um CNN e se tornou uma arquitertura de destaque para tarefa de detecção de objetos. Ela é composta por composta por **3 camadas totalmente conectados (fully connected**) e **5 camadas convolucionais**. A primeira camada é usada para inserir uma imagem filtradas de cor (vermelho, verde e azul). [1]"
      ],
      "metadata": {
        "id": "mrUDHOQYxsLh"
      }
    },
    {
      "cell_type": "code",
      "source": [
        "# Modelo com ResNet18 pré-treinada\n",
        "device = torch.device(\"cuda\" if torch.cuda.is_available() else \"cpu\")\n",
        "\n",
        "# Modelo com AlexNet pré-treinada\n",
        "model = models.alexnet(weights=models.AlexNet_Weights.DEFAULT)\n",
        "\n",
        "# Substitui a camada final para 4 classes\n",
        "# A AlexNet tem um classifier com vários layers\n",
        "# Vamos modificar a última camada linear (classifier[6])\n",
        "model.classifier[6] = torch.nn.Linear(model.classifier[6].in_features, 4)\n",
        "\n",
        "model = model.to(device)"
      ],
      "metadata": {
        "id": "xEeSuKBquRFk",
        "colab": {
          "base_uri": "https://localhost:8080/"
        },
        "outputId": "df6d9e24-9cbc-4501-cfd0-85859974f1cb"
      },
      "execution_count": null,
      "outputs": [
        {
          "output_type": "stream",
          "name": "stderr",
          "text": [
            "Downloading: \"https://download.pytorch.org/models/alexnet-owt-7be5be79.pth\" to /root/.cache/torch/hub/checkpoints/alexnet-owt-7be5be79.pth\n",
            "100%|██████████| 233M/233M [00:02<00:00, 103MB/s] \n"
          ]
        }
      ]
    },
    {
      "cell_type": "code",
      "source": [
        "# Número de exemplos por classe, na ordem dos rótulos\n",
        "class_counts = torch.tensor([172, 15, 634, 459], dtype=torch.float32)\n",
        "\n",
        "# Frequência relativa (dividido pelo total)\n",
        "total = class_counts.sum()\n",
        "freqs = class_counts / total\n",
        "\n",
        "# Peso = inverso da frequência\n",
        "weights = 1.0 / freqs\n",
        "\n",
        "# Normaliza para evitar explosão de gradientes\n",
        "weights = weights / weights.sum()\n",
        "\n",
        "# Enviar para GPU\n",
        "weights = weights.to(device)\n",
        "\n",
        "criterion = nn.CrossEntropyLoss(weight=weights)\n",
        "optimizer = optim.Adam(model.parameters(), lr=1e-4)\n",
        "\n",
        "from tqdm import tqdm\n",
        "\n",
        "# Inicializa histórico\n",
        "epoch_losses = []\n",
        "num_epochs = 10\n",
        "\n",
        "star_time = time.time()\n",
        "\n",
        "for epoch in range(num_epochs):\n",
        "    model.train()\n",
        "    running_loss = 0.0\n",
        "\n",
        "    # Loop por batch\n",
        "    for images, labels in tqdm(dataloader, desc=f\"Época {epoch+1}/{num_epochs}\"):\n",
        "        images, labels = images.to(device), labels.to(device)\n",
        "\n",
        "        optimizer.zero_grad()\n",
        "        outputs = model(images)\n",
        "        loss = criterion(outputs, labels)\n",
        "        loss.backward()\n",
        "        optimizer.step()\n",
        "\n",
        "        running_loss += loss.item()\n",
        "\n",
        "    # Média da época\n",
        "    epoch_loss = running_loss / len(dataloader)\n",
        "    epoch_losses.append(epoch_loss)\n",
        "    print(f\"Loss da época {epoch+1}: {epoch_loss:.4f}\")\n",
        "\n",
        "end_time = time.time()\n",
        "tempo_total = end_time - star_time\n",
        "\n",
        "# Grafico por época\n",
        "plt.figure(figsize=(8, 4))\n",
        "plt.plot(range(1, num_epochs+1), epoch_losses, marker='o')\n",
        "plt.title(\"Loss médio por época\")\n",
        "plt.xlabel(\"Época\")\n",
        "plt.ylabel(\"Loss\")\n",
        "plt.grid(True)\n",
        "plt.tight_layout()\n",
        "plt.show()"
      ],
      "metadata": {
        "colab": {
          "base_uri": "https://localhost:8080/",
          "height": 764
        },
        "id": "SBq45kNovoeF",
        "outputId": "a32d4d14-c648-4c90-c902-98d01e2cfc15"
      },
      "execution_count": null,
      "outputs": [
        {
          "output_type": "stream",
          "name": "stderr",
          "text": [
            "Época 1/10: 100%|██████████| 320/320 [00:29<00:00, 10.97it/s]\n"
          ]
        },
        {
          "output_type": "stream",
          "name": "stdout",
          "text": [
            "Loss da época 1: 1.2110\n"
          ]
        },
        {
          "output_type": "stream",
          "name": "stderr",
          "text": [
            "Época 2/10: 100%|██████████| 320/320 [00:19<00:00, 16.14it/s]\n"
          ]
        },
        {
          "output_type": "stream",
          "name": "stdout",
          "text": [
            "Loss da época 2: 1.1275\n"
          ]
        },
        {
          "output_type": "stream",
          "name": "stderr",
          "text": [
            "Época 3/10: 100%|██████████| 320/320 [00:20<00:00, 15.85it/s]\n"
          ]
        },
        {
          "output_type": "stream",
          "name": "stdout",
          "text": [
            "Loss da época 3: 1.0090\n"
          ]
        },
        {
          "output_type": "stream",
          "name": "stderr",
          "text": [
            "Época 4/10: 100%|██████████| 320/320 [00:20<00:00, 15.63it/s]\n"
          ]
        },
        {
          "output_type": "stream",
          "name": "stdout",
          "text": [
            "Loss da época 4: 0.8193\n"
          ]
        },
        {
          "output_type": "stream",
          "name": "stderr",
          "text": [
            "Época 5/10: 100%|██████████| 320/320 [00:20<00:00, 15.38it/s]\n"
          ]
        },
        {
          "output_type": "stream",
          "name": "stdout",
          "text": [
            "Loss da época 5: 0.6453\n"
          ]
        },
        {
          "output_type": "stream",
          "name": "stderr",
          "text": [
            "Época 6/10: 100%|██████████| 320/320 [00:20<00:00, 15.55it/s]\n"
          ]
        },
        {
          "output_type": "stream",
          "name": "stdout",
          "text": [
            "Loss da época 6: 0.4871\n"
          ]
        },
        {
          "output_type": "stream",
          "name": "stderr",
          "text": [
            "Época 7/10: 100%|██████████| 320/320 [00:19<00:00, 16.05it/s]\n"
          ]
        },
        {
          "output_type": "stream",
          "name": "stdout",
          "text": [
            "Loss da época 7: 0.3746\n"
          ]
        },
        {
          "output_type": "stream",
          "name": "stderr",
          "text": [
            "Época 8/10: 100%|██████████| 320/320 [00:20<00:00, 15.97it/s]\n"
          ]
        },
        {
          "output_type": "stream",
          "name": "stdout",
          "text": [
            "Loss da época 8: 0.3089\n"
          ]
        },
        {
          "output_type": "stream",
          "name": "stderr",
          "text": [
            "Época 9/10: 100%|██████████| 320/320 [00:20<00:00, 15.39it/s]\n"
          ]
        },
        {
          "output_type": "stream",
          "name": "stdout",
          "text": [
            "Loss da época 9: 0.3524\n"
          ]
        },
        {
          "output_type": "stream",
          "name": "stderr",
          "text": [
            "Época 10/10: 100%|██████████| 320/320 [00:20<00:00, 15.99it/s]\n"
          ]
        },
        {
          "output_type": "stream",
          "name": "stdout",
          "text": [
            "Loss da época 10: 0.1805\n"
          ]
        },
        {
          "output_type": "display_data",
          "data": {
            "text/plain": [
              "<Figure size 800x400 with 1 Axes>"
            ],
            "image/png": "[encoded data removed]"
          },
          "metadata": {}
        }
      ]
    },
    {
      "cell_type": "code",
      "source": [
        "# Caminho para o arquivo de teste\n",
        "test_path = '/kaggle/input/alzheimer-mri-disease-classification-dataset/Alzheimer MRI Disease Classification Dataset/Data/test-00000-of-00001-44110b9df98c5585.parquet'\n",
        "\n",
        "# Lê o Parquet\n",
        "df_test = pd.read_parquet(test_path)\n",
        "\n",
        "# Cria o dataset e o dataloader de teste\n",
        "test_dataset = AlzheimerDataset(df_test, transform=transform)\n",
        "test_dataloader = DataLoader(test_dataset, batch_size=16, shuffle=False)"
      ],
      "metadata": {
        "id": "AIrkliH2v9_g"
      },
      "execution_count": null,
      "outputs": []
    },
    {
      "cell_type": "code",
      "source": [
        "# Coloque o modelo em modo de avaliação\n",
        "model.eval()\n",
        "\n",
        "y_true = []\n",
        "y_pred = []\n",
        "\n",
        "with torch.no_grad():\n",
        "  for images, labels in tqdm(test_dataloader, desc=\"Avaliando\"):\n",
        "    images = images.to(device)\n",
        "    labels = labels.to(device)\n",
        "    outputs = model(images)\n",
        "    _, preds = torch.max(outputs, 1)\n",
        "    y_true.extend(labels.cpu().numpy())\n",
        "    y_pred.extend(preds.cpu().numpy())"
      ],
      "metadata": {
        "colab": {
          "base_uri": "https://localhost:8080/"
        },
        "id": "tIgWZgpzv_Lo",
        "outputId": "2b3d744e-9a04-414d-f4d0-34767ca96c4c"
      },
      "execution_count": null,
      "outputs": [
        {
          "output_type": "stream",
          "name": "stderr",
          "text": [
            "Avaliando: 100%|██████████| 80/80 [00:03<00:00, 23.00it/s]\n"
          ]
        }
      ]
    },
    {
      "cell_type": "code",
      "source": [
        "accuracy = accuracy_score(y_true, y_pred)\n",
        "precision = precision_score(y_true, y_pred, average='weighted', zero_division=0)\n",
        "recall = recall_score(y_true, y_pred, average='weighted', zero_division=0)\n",
        "f1 = f1_score(y_true, y_pred, average='weighted', zero_division=0)\n",
        "\n",
        "print(f\"Acurácia: {accuracy:.4f}\")\n",
        "print(f\"Precisão: {precision:.4f}\")\n",
        "print(f\"Revocação: {recall:.4f}\")\n",
        "print(f\"F1-score: {f1:.4f}\")\n",
        "\n",
        "modelo = \"AlexNet\"\n",
        "\n",
        "# Relatório completo por classe\n",
        "print(f\"\\nModelo {modelo}\")\n",
        "print(\"\\nRelatório por classe:\")\n",
        "print(classification_report(y_true, y_pred, target_names=[label_map[i] for i in range(4)], zero_division=0))"
      ],
      "metadata": {
        "colab": {
          "base_uri": "https://localhost:8080/"
        },
        "id": "M9yAL5f5wHwV",
        "outputId": "104b95ad-0223-4c18-d4f1-e5765d2c5e97"
      },
      "execution_count": null,
      "outputs": [
        {
          "output_type": "stream",
          "name": "stdout",
          "text": [
            "Acurácia: 0.8961\n",
            "Precisão: 0.8980\n",
            "Revocação: 0.8961\n",
            "F1-score: 0.8954\n",
            "\n",
            "Modelo AlexNet\n",
            "\n",
            "Relatório por classe:\n",
            "                    precision    recall  f1-score   support\n",
            "\n",
            "     Mild_Demented       0.85      0.95      0.90       172\n",
            " Moderate_Demented       1.00      1.00      1.00        15\n",
            "      Non_Demented       0.89      0.93      0.91       634\n",
            "Very_Mild_Demented       0.92      0.82      0.87       459\n",
            "\n",
            "          accuracy                           0.90      1280\n",
            "         macro avg       0.91      0.93      0.92      1280\n",
            "      weighted avg       0.90      0.90      0.90      1280\n",
            "\n"
          ]
        }
      ]
    },
    {
      "cell_type": "code",
      "source": [
        "# Calcula a matriz\n",
        "cm = confusion_matrix(y_true, y_pred)\n",
        "\n",
        "# Converte para DataFrame com rótulos\n",
        "cm_df = pd.DataFrame(cm, index=label_map.values(), columns=label_map.values())\n",
        "\n",
        "print(\"Matriz de confusão:\\n\")\n",
        "print(cm_df.to_string())"
      ],
      "metadata": {
        "colab": {
          "base_uri": "https://localhost:8080/"
        },
        "id": "MtvB5qa_wJVf",
        "outputId": "6d1b502c-aad5-451b-9629-6ee450dda4cf"
      },
      "execution_count": null,
      "outputs": [
        {
          "output_type": "stream",
          "name": "stdout",
          "text": [
            "Matriz de confusão:\n",
            "\n",
            "                    Mild_Demented  Moderate_Demented  Non_Demented  Very_Mild_Demented\n",
            "Mild_Demented                 164                  0             5                   3\n",
            "Moderate_Demented               0                 15             0                   0\n",
            "Non_Demented                   14                  0           591                  29\n",
            "Very_Mild_Demented             16                  0            66                 377\n"
          ]
        }
      ]
    },
    {
      "cell_type": "markdown",
      "source": [
        "1. GUENKAWA, Patricia Akemi Sekini. Detecção e localização de cavitação via inteligência artificial. 2024. Tese de Doutorado. Universidade de São Paulo."
      ],
      "metadata": {
        "id": "GWD_l4ClzM9c"
      }
    },
    {
      "cell_type": "code",
      "source": [
        "resultados = {\n",
        "    \"modelo\": modelo,\n",
        "    \"epocas\": num_epochs,\n",
        "    \"tempo_total\": round(tempo_total, 2), # em segundos\n",
        "    \"acuracia\": round(accuracy, 4),\n",
        "    \"precisao\": round(precision, 4),\n",
        "    \"revocacao\": round(recall, 4),\n",
        "    \"f1_macro\": round(f1, 4)\n",
        "}"
      ],
      "metadata": {
        "id": "PkoVZABwKL09"
      },
      "execution_count": null,
      "outputs": []
    },
    {
      "cell_type": "code",
      "source": [
        "import re\n",
        "\n",
        "def limpar_nome_arquivo(nome):\n",
        "    \"\"\"\n",
        "    Substitui caracteres inválidos em nomes de arquivos por underline (_).\n",
        "\n",
        "    Parâmetros:\n",
        "    nome (str): O nome original do arquivo que pode conter caracteres inválidos.\n",
        "\n",
        "    Retorna:\n",
        "    str: Uma versão do nome do arquivo onde os caracteres inválidos (\\, /, :, \", *, ?, <, >, |)\n",
        "         foram substituídos por underscores (_), tornando o nome seguro para uso em sistemas de arquivos.\n",
        "    \"\"\"\n",
        "    return re.sub(r'[\\\\/:\"*?<>|]+', \"_\", nome)\n",
        "\n",
        "nome_seguro = limpar_nome_arquivo(modelo)"
      ],
      "metadata": {
        "id": "-wRn3AUrKSOW"
      },
      "execution_count": null,
      "outputs": []
    },
    {
      "cell_type": "code",
      "source": [
        "file_path = f\"resultados_do_modelo_{nome_seguro}.csv\"\n",
        "campos = list(resultados.keys())\n",
        "\n",
        "# Cria o arquivo se não existir\n",
        "if not os.path.exists(file_path):\n",
        "    with open(file_path, 'w', newline='') as f:\n",
        "        writer = csv.DictWriter(f, fieldnames=campos)\n",
        "        writer.writeheader()\n",
        "        writer.writerow(resultados)\n",
        "else:\n",
        "    # Apenas adiciona nova linha\n",
        "    with open(file_path, 'a', newline='') as f:\n",
        "        writer = csv.DictWriter(f, fieldnames=campos)\n",
        "        writer.writerow(resultados)"
      ],
      "metadata": {
        "id": "LvncyxKFKVxB"
      },
      "execution_count": null,
      "outputs": []
    }
  ]
}