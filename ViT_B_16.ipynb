{
  "nbformat": 4,
  "nbformat_minor": 0,
  "metadata": {
    "colab": {
      "provenance": [],
      "gpuType": "T4"
    },
    "kernelspec": {
      "name": "python3",
      "display_name": "Python 3"
    },
    "language_info": {
      "name": "python"
    },
    "accelerator": "GPU"
  },
  "cells": [
    {
      "cell_type": "markdown",
      "source": [
        "Modelo Vision Transformer B/16<br>\n",
        "Link para o Colab: https://colab.research.google.com/drive/1YltHY_40mkOgqgboHRx1CKcvygVqjXto#scrollTo=yNFW_O0OA003"
      ],
      "metadata": {
        "id": "yNFW_O0OA003"
      }
    },
    {
      "cell_type": "code",
      "execution_count": null,
      "metadata": {
        "id": "OnHF4vxhAwDT"
      },
      "outputs": [],
      "source": [
        "import kagglehub\n",
        "from PIL import Image\n",
        "import io\n",
        "import random\n",
        "import torch\n",
        "import numpy as np\n",
        "from torch.utils.data import Dataset, DataLoader\n",
        "from torchvision import transforms, models\n",
        "from transformers import ViTForImageClassification, ViTFeatureExtractor\n",
        "from transformers import ViTImageProcessor\n",
        "import matplotlib.pyplot as plt\n",
        "import seaborn as sns\n",
        "import pandas as pd\n",
        "from sklearn.metrics import accuracy_score, precision_score, recall_score, f1_score, classification_report, confusion_matrix\n",
        "import torch.nn as nn\n",
        "import torch.optim as optim\n",
        "import os\n",
        "import csv\n",
        "import time"
      ]
    },
    {
      "cell_type": "markdown",
      "source": [
        "A Hugging Face (`transformers`) fornece o ViT pronto para PyTorch."
      ],
      "metadata": {
        "id": "xNffy498BkqF"
      }
    },
    {
      "cell_type": "code",
      "source": [
        "def set_seed(seed=42):\n",
        "  random.seed(seed)\n",
        "  np.random.seed(seed)\n",
        "  torch.manual_seed(seed)\n",
        "  torch.cuda.manual_seed_all(seed)\n",
        "  torch.backends.cudnn.deterministic = True\n",
        "  torch.backends.cudnn.benchmark = False\n",
        "\n",
        "# Fixar o seed para reprodutividade\n",
        "set_seed()"
      ],
      "metadata": {
        "id": "vglHmsqQBwdy"
      },
      "execution_count": null,
      "outputs": []
    },
    {
      "cell_type": "code",
      "source": [
        "# Download latest version\n",
        "path = kagglehub.dataset_download(\"borhanitrash/alzheimer-mri-disease-classification-dataset\")\n",
        "\n",
        "print(\"Path to dataset files:\", path)\n",
        "\n",
        "# Caminho para o dataset\n",
        "train_path = '/kaggle/input/alzheimer-mri-disease-classification-dataset/Alzheimer MRI Disease Classification Dataset/Data/train-00000-of-00001-c08a401c53fe5312.parquet'\n",
        "\n",
        "# Carrega o parquet\n",
        "df = pd.read_parquet(train_path)"
      ],
      "metadata": {
        "colab": {
          "base_uri": "https://localhost:8080/"
        },
        "id": "ZQ6gTQulB6D5",
        "outputId": "2a289a82-1758-47fc-a657-94939250fd1c"
      },
      "execution_count": null,
      "outputs": [
        {
          "output_type": "stream",
          "name": "stdout",
          "text": [
            "Path to dataset files: /kaggle/input/alzheimer-mri-disease-classification-dataset\n"
          ]
        }
      ]
    },
    {
      "cell_type": "code",
      "source": [
        "# Label map\n",
        "label_map = {\n",
        "    0: \"Mild_Demented\",\n",
        "    1: \"Moderate_Demented\",\n",
        "    2: \"Non_Demented\",\n",
        "    3: \"Very_Mild_Demented\"\n",
        "}"
      ],
      "metadata": {
        "id": "dswiwbPNB9Wz"
      },
      "execution_count": null,
      "outputs": []
    },
    {
      "cell_type": "code",
      "source": [
        "# Dataset customizado\n",
        "class AlzheimerDataset(Dataset):\n",
        "    def __init__(self, dataframe, transform=None):\n",
        "        self.df = dataframe\n",
        "        self.transform = transform\n",
        "\n",
        "    def __len__(self):\n",
        "        return len(self.df)\n",
        "\n",
        "    def __getitem__(self, idx):\n",
        "        img_bytes = self.df.iloc[idx]['image']['bytes']\n",
        "        label = self.df.iloc[idx]['label']\n",
        "        image = Image.open(io.BytesIO(img_bytes)).convert('RGB')\n",
        "        if self.transform:\n",
        "            image = self.transform(image)\n",
        "        return image, label"
      ],
      "metadata": {
        "id": "JCjj0D8lCJLE"
      },
      "execution_count": null,
      "outputs": []
    },
    {
      "cell_type": "code",
      "source": [
        "# Carregar o ViT pré-treinado\n",
        "model_name = \"google/vit-base-patch16-224\"\n",
        "feature_extractor = ViTFeatureExtractor.from_pretrained(model_name)\n",
        "model = ViTForImageClassification.from_pretrained(\n",
        "    model_name,\n",
        "    num_labels=4,\n",
        "    ignore_mismatched_sizes=True\n",
        ")\n",
        "\n",
        "device = torch.device(\"cuda\" if torch.cuda.is_available() else \"cpu\")\n",
        "model = model.to(device)"
      ],
      "metadata": {
        "colab": {
          "base_uri": "https://localhost:8080/"
        },
        "id": "Av1IOHbUCTDn",
        "outputId": "c2a0ef6e-84f9-419f-c672-4883beedf4b6"
      },
      "execution_count": null,
      "outputs": [
        {
          "output_type": "stream",
          "name": "stderr",
          "text": [
            "/usr/local/lib/python3.11/dist-packages/transformers/models/vit/feature_extraction_vit.py:30: FutureWarning: The class ViTFeatureExtractor is deprecated and will be removed in version 5 of Transformers. Please use ViTImageProcessor instead.\n",
            "  warnings.warn(\n",
            "Some weights of ViTForImageClassification were not initialized from the model checkpoint at google/vit-base-patch16-224 and are newly initialized because the shapes did not match:\n",
            "- classifier.bias: found shape torch.Size([1000]) in the checkpoint and torch.Size([4]) in the model instantiated\n",
            "- classifier.weight: found shape torch.Size([1000, 768]) in the checkpoint and torch.Size([4, 768]) in the model instantiated\n",
            "You should probably TRAIN this model on a down-stream task to be able to use it for predictions and inference.\n"
          ]
        }
      ]
    },
    {
      "cell_type": "code",
      "source": [
        "# Transforms com o feature_extractor\n",
        "transform = transforms.Compose([\n",
        "    transforms.Resize((224,224)),\n",
        "    transforms.ToTensor(),\n",
        "    transforms.Normalize(\n",
        "        mean=feature_extractor.image_mean,\n",
        "        std=feature_extractor.image_std\n",
        "    )\n",
        "])"
      ],
      "metadata": {
        "id": "w_sDbvRBCEi2"
      },
      "execution_count": null,
      "outputs": []
    },
    {
      "cell_type": "code",
      "source": [
        "# Criação do dataset e dataloader\n",
        "dataset = AlzheimerDataset(df, transform=transform)\n",
        "dataloader = DataLoader(dataset, batch_size=16, shuffle=True)"
      ],
      "metadata": {
        "id": "dzHRsYqdCQ6o"
      },
      "execution_count": null,
      "outputs": []
    },
    {
      "cell_type": "code",
      "source": [
        "%%time\n",
        "# Número de exemplos por classe, na ordem dos rótulos\n",
        "class_counts = torch.tensor([172, 15, 634, 459], dtype=torch.float32)\n",
        "\n",
        "# Frequência relativa (dividido pelo total)\n",
        "total = class_counts.sum()\n",
        "freqs = class_counts / total\n",
        "\n",
        "# Peso = inverso da frequência\n",
        "weights = 1.0 / freqs\n",
        "\n",
        "# Normaliza para evitar explosão de gradientes\n",
        "weights = weights / weights.sum()\n",
        "\n",
        "# Enviar para GPU\n",
        "weights = weights.to(device)\n",
        "\n",
        "criterion = nn.CrossEntropyLoss(weight=weights)\n",
        "optimizer = optim.Adam(model.parameters(), lr=1e-4)\n",
        "\n",
        "from tqdm import tqdm\n",
        "\n",
        "# Inicializa histórico\n",
        "epoch_losses = []\n",
        "num_epochs = 10\n",
        "\n",
        "star_time = time.time()\n",
        "for epoch in range(num_epochs):\n",
        "    model.train()\n",
        "    running_loss = 0.0\n",
        "\n",
        "    # Loop por batch\n",
        "    for images, labels in tqdm(dataloader, desc=f\"Época {epoch+1}/{num_epochs}\"):\n",
        "        images, labels = images.to(device), labels.to(device)\n",
        "\n",
        "        optimizer.zero_grad()\n",
        "        outputs = model(images)\n",
        "        loss = criterion(outputs.logits, labels)\n",
        "        loss.backward()\n",
        "        optimizer.step()\n",
        "\n",
        "        running_loss += loss.item()\n",
        "\n",
        "    # Média da época\n",
        "    epoch_loss = running_loss / len(dataloader)\n",
        "    epoch_losses.append(epoch_loss)\n",
        "    print(f\"Loss da época {epoch+1}: {epoch_loss:.4f}\")\n",
        "\n",
        "end_time = time.time()\n",
        "tempo_total = end_time - star_time # segundos\n",
        "\n",
        "# Grafico por época\n",
        "plt.figure(figsize=(8, 4))\n",
        "plt.plot(range(1, num_epochs+1), epoch_losses, marker='o')\n",
        "plt.title(\"Loss médio por época\")\n",
        "plt.xlabel(\"Época\")\n",
        "plt.ylabel(\"Loss\")\n",
        "plt.grid(True)\n",
        "plt.tight_layout()\n",
        "plt.show()"
      ],
      "metadata": {
        "colab": {
          "base_uri": "https://localhost:8080/",
          "height": 478
        },
        "id": "XT0Kr6ZRD_sG",
        "outputId": "88052897-bfeb-4eef-9064-a03dc9371002"
      },
      "execution_count": null,
      "outputs": [
        {
          "output_type": "stream",
          "name": "stderr",
          "text": [
            "Época 1/1: 100%|██████████| 320/320 [03:01<00:00,  1.76it/s]"
          ]
        },
        {
          "output_type": "stream",
          "name": "stdout",
          "text": [
            "Loss da época 1: 1.0928\n"
          ]
        },
        {
          "output_type": "stream",
          "name": "stderr",
          "text": [
            "\n"
          ]
        },
        {
          "output_type": "display_data",
          "data": {
            "text/plain": [
              "<Figure size 800x400 with 1 Axes>"
            ],
            "image/png": "[encoded data removed]"
          },
          "metadata": {}
        },
        {
          "output_type": "stream",
          "name": "stdout",
          "text": [
            "CPU times: user 3min 51s, sys: 1.13 s, total: 3min 52s\n",
            "Wall time: 3min 1s\n"
          ]
        }
      ]
    },
    {
      "cell_type": "code",
      "source": [
        "# Caminho para o arquivo de teste\n",
        "test_path = '/kaggle/input/alzheimer-mri-disease-classification-dataset/Alzheimer MRI Disease Classification Dataset/Data/test-00000-of-00001-44110b9df98c5585.parquet'\n",
        "\n",
        "# Lê o Parquet\n",
        "df_test = pd.read_parquet(test_path)\n",
        "\n",
        "# Cria o dataset e o dataloader de teste\n",
        "test_dataset = AlzheimerDataset(df_test, transform=transform)\n",
        "test_dataloader = DataLoader(test_dataset, batch_size=16, shuffle=False)"
      ],
      "metadata": {
        "id": "t9p5RJFbEPyQ"
      },
      "execution_count": null,
      "outputs": []
    },
    {
      "cell_type": "code",
      "source": [
        "# Coloque o modelo em modo de avaliação\n",
        "model.eval()\n",
        "\n",
        "y_true = []\n",
        "y_pred = []\n",
        "\n",
        "with torch.no_grad():\n",
        "  for images, labels in tqdm(test_dataloader, desc=\"Avaliando\"):\n",
        "    images = images.to(device)\n",
        "    labels = labels.to(device)\n",
        "    outputs = model(images)\n",
        "    _, preds = torch.max(outputs.logits, 1)\n",
        "    y_true.extend(labels.cpu().numpy())\n",
        "    y_pred.extend(preds.cpu().numpy())"
      ],
      "metadata": {
        "colab": {
          "base_uri": "https://localhost:8080/"
        },
        "id": "czSOvcgGESqr",
        "outputId": "b90074a1-df87-4327-afc8-7f75b748fdb6"
      },
      "execution_count": null,
      "outputs": [
        {
          "output_type": "stream",
          "name": "stderr",
          "text": [
            "Avaliando: 100%|██████████| 80/80 [00:16<00:00,  4.89it/s]\n"
          ]
        }
      ]
    },
    {
      "cell_type": "code",
      "source": [
        "accuracy = accuracy_score(y_true, y_pred)\n",
        "precision = precision_score(y_true, y_pred, average='weighted', zero_division=0)\n",
        "recall = recall_score(y_true, y_pred, average='weighted', zero_division=0)\n",
        "f1 = f1_score(y_true, y_pred, average='weighted', zero_division=0)\n",
        "\n",
        "print(f\"Acurácia: {accuracy:.4f}\")\n",
        "print(f\"Precisão: {precision:.4f}\")\n",
        "print(f\"Revocação: {recall:.4f}\")\n",
        "print(f\"F1-score: {f1:.4f}\")\n",
        "\n",
        "modelo = \"ViT B/16\"\n",
        "\n",
        "# Relatório completo por classe\n",
        "print(f\"\\nModelo {modelo}\")\n",
        "print(\"\\nRelatório por classe:\")\n",
        "print(classification_report(y_true, y_pred, target_names=[label_map[i] for i in range(4)], zero_division=0))"
      ],
      "metadata": {
        "colab": {
          "base_uri": "https://localhost:8080/"
        },
        "id": "xRElZ9k2EYJ0",
        "outputId": "b5139211-f895-4e37-8254-63e4b87f4cc8"
      },
      "execution_count": null,
      "outputs": [
        {
          "output_type": "stream",
          "name": "stdout",
          "text": [
            "Acurácia: 0.5664\n",
            "Precisão: 0.4678\n",
            "Revocação: 0.5664\n",
            "F1-score: 0.5093\n",
            "\n",
            "Modelo ViT B/16\n",
            "\n",
            "Relatório por classe:\n",
            "                    precision    recall  f1-score   support\n",
            "\n",
            "     Mild_Demented       0.00      0.00      0.00       172\n",
            " Moderate_Demented       0.00      0.00      0.00        15\n",
            "      Non_Demented       0.64      0.86      0.74       634\n",
            "Very_Mild_Demented       0.42      0.39      0.40       459\n",
            "\n",
            "          accuracy                           0.57      1280\n",
            "         macro avg       0.26      0.31      0.28      1280\n",
            "      weighted avg       0.47      0.57      0.51      1280\n",
            "\n"
          ]
        }
      ]
    },
    {
      "cell_type": "code",
      "source": [
        "# Calcula a matriz\n",
        "cm = confusion_matrix(y_true, y_pred)\n",
        "\n",
        "# Converte para DataFrame com rótulos\n",
        "cm_df = pd.DataFrame(cm, index=label_map.values(), columns=label_map.values())\n",
        "\n",
        "print(\"Matriz de confusão:\\n\")\n",
        "print(cm_df.to_string())"
      ],
      "metadata": {
        "colab": {
          "base_uri": "https://localhost:8080/"
        },
        "id": "UIOHmiYtEns2",
        "outputId": "5b0db9d9-c912-44c1-f600-7967635b7327"
      },
      "execution_count": null,
      "outputs": [
        {
          "output_type": "stream",
          "name": "stdout",
          "text": [
            "Matriz de confusão:\n",
            "\n",
            "                    Mild_Demented  Moderate_Demented  Non_Demented  Very_Mild_Demented\n",
            "Mild_Demented                   0                  0            21                 151\n",
            "Moderate_Demented               0                  0             2                  13\n",
            "Non_Demented                    0                  0           545                  89\n",
            "Very_Mild_Demented              0                  0           279                 180\n"
          ]
        }
      ]
    },
    {
      "cell_type": "code",
      "source": [
        "resultados = {\n",
        "    \"modelo\": modelo,\n",
        "    \"epocas\": num_epochs,\n",
        "    \"tempo_total\": round(tempo_total, 2), # em segundos\n",
        "    \"acuracia\": round(accuracy, 4),\n",
        "    \"precisao\": round(precision, 4),\n",
        "    \"revocacao\": round(recall, 4),\n",
        "    \"f1_macro\": round(f1, 4)\n",
        "}"
      ],
      "metadata": {
        "id": "p8nN5Cy6W1Wg"
      },
      "execution_count": null,
      "outputs": []
    },
    {
      "cell_type": "code",
      "source": [
        "import re\n",
        "def limpar_nome_arquivo(nome):\n",
        "    return re.sub(r'[\\\\/:\"*?<>|]+', \"_\", nome)\n",
        "\n",
        "nome_seguro = limpar_nome_arquivo(modelo)"
      ],
      "metadata": {
        "id": "VHI1MpRhbmtR"
      },
      "execution_count": null,
      "outputs": []
    },
    {
      "cell_type": "code",
      "source": [
        "file_path = f\"resultados_do_modelo_{nome_seguro}.csv\"\n",
        "campos = list(resultados.keys())\n",
        "\n",
        "# Cria o arquivo se não existir\n",
        "if not os.path.exists(file_path):\n",
        "    with open(file_path, 'w', newline='') as f:\n",
        "        writer = csv.DictWriter(f, fieldnames=campos)\n",
        "        writer.writeheader()\n",
        "        writer.writerow(resultados)\n",
        "else:\n",
        "    # Apenas adiciona nova linha\n",
        "    with open(file_path, 'a', newline='') as f:\n",
        "        writer = csv.DictWriter(f, fieldnames=campos)\n",
        "        writer.writerow(resultados)"
      ],
      "metadata": {
        "id": "K0sncLEBYOIo"
      },
      "execution_count": null,
      "outputs": []
    }
  ]
}