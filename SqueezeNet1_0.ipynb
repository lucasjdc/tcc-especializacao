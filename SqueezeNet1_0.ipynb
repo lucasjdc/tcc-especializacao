{
  "cells": [
    {
      "cell_type": "markdown",
      "source": [
        "**Modelo SqueezeNet1_0**<br>\n",
        "Link do Colab: https://colab.research.google.com/drive/1cEQN5s5xRX1QLW35_bIinTWHoIVr9m6-"
      ],
      "metadata": {
        "id": "UbkIGIcNrhuz"
      }
    },
    {
      "cell_type": "code",
      "execution_count": null,
      "metadata": {
        "id": "TSJ4DdzGt7bX"
      },
      "outputs": [],
      "source": [
        "import kagglehub\n",
        "from PIL import Image\n",
        "import io\n",
        "import torch\n",
        "from torch.utils.data import Dataset, DataLoader\n",
        "from torchvision import transforms, models\n",
        "import matplotlib.pyplot as plt\n",
        "import seaborn as sns\n",
        "import pandas as pd\n",
        "from sklearn.metrics import accuracy_score, precision_score, recall_score, f1_score, classification_report, confusion_matrix\n",
        "import torch.nn as nn\n",
        "import torch.optim as optim\n",
        "import os"
      ]
    },
    {
      "cell_type": "code",
      "execution_count": null,
      "metadata": {
        "colab": {
          "base_uri": "https://localhost:8080/"
        },
        "id": "wrn5Pu05uAb4",
        "outputId": "fa8051ba-e9d6-41b5-9b58-03a090d9a3ef"
      },
      "outputs": [
        {
          "name": "stdout",
          "output_type": "stream",
          "text": [
            "Path to dataset files: /kaggle/input/alzheimer-mri-disease-classification-dataset\n"
          ]
        }
      ],
      "source": [
        "# Download latest version\n",
        "path = kagglehub.dataset_download(\"borhanitrash/alzheimer-mri-disease-classification-dataset\")\n",
        "\n",
        "print(\"Path to dataset files:\", path)\n",
        "\n",
        "# Caminho para o dataset\n",
        "train_path = '/kaggle/input/alzheimer-mri-disease-classification-dataset/Alzheimer MRI Disease Classification Dataset/Data/train-00000-of-00001-c08a401c53fe5312.parquet'\n",
        "\n",
        "# Carrega o parquet\n",
        "df = pd.read_parquet(train_path)"
      ]
    },
    {
      "cell_type": "code",
      "execution_count": null,
      "metadata": {
        "id": "NdqGV_2-uEK9"
      },
      "outputs": [],
      "source": [
        "# Label map\n",
        "label_map = {\n",
        "    0: \"Mild_Demented\",\n",
        "    1: \"Moderate_Demented\",\n",
        "    2: \"Non_Demented\",\n",
        "    3: \"Very_Mild_Demented\"\n",
        "}"
      ]
    },
    {
      "cell_type": "code",
      "execution_count": null,
      "metadata": {
        "id": "4-4bUdK9uHgz"
      },
      "outputs": [],
      "source": [
        "# Transforms padrão para ResNet\n",
        "transform = transforms.Compose([\n",
        "    transforms.Resize((224,224)),\n",
        "    transforms.ToTensor(),\n",
        "    transforms.Normalize(mean=[0.485, 0.456, 0.406],    # padrão ImageNet\n",
        "                        std=[0.229, 0.224, 0.225])\n",
        "])"
      ]
    },
    {
      "cell_type": "code",
      "execution_count": null,
      "metadata": {
        "id": "7L0jBxV-uM3Q"
      },
      "outputs": [],
      "source": [
        "# Dataset customizado\n",
        "class AlzheimerDataset(Dataset):\n",
        "    def __init__(self, dataframe, transform=None):\n",
        "        self.df = dataframe\n",
        "        self.transform = transform\n",
        "\n",
        "    def __len__(self):\n",
        "        return len(self.df)\n",
        "\n",
        "    def __getitem__(self, idx):\n",
        "        img_bytes = self.df.iloc[idx]['image']['bytes']\n",
        "        label = self.df.iloc[idx]['label']\n",
        "        image = Image.open(io.BytesIO(img_bytes)).convert('RGB')\n",
        "        if self.transform:\n",
        "            image = self.transform(image)\n",
        "        return image, label"
      ]
    },
    {
      "cell_type": "code",
      "execution_count": null,
      "metadata": {
        "id": "vStu_t6luONa"
      },
      "outputs": [],
      "source": [
        "# Criação do dataset e dataloader\n",
        "dataset = AlzheimerDataset(df, transform=transform)\n",
        "dataloader = DataLoader(dataset, batch_size=16, shuffle=True)"
      ]
    },
    {
      "cell_type": "code",
      "execution_count": null,
      "metadata": {
        "id": "xEeSuKBquRFk"
      },
      "outputs": [],
      "source": [
        "# Modelo com ResNet18 pré-treinada\n",
        "device = torch.device(\"cuda\" if torch.cuda.is_available() else \"cpu\")\n",
        "\n",
        "# Modelo com AlexNet pré-treinada\n",
        "model = models.squeezenet1_0(weights=models.SqueezeNet1_0_Weights.DEFAULT)\n",
        "\n",
        "# Substitui a camada final (classifier)\n",
        "model.classifier[1] = torch.nn.Conv2d(512, 4, kernel_size=1)\n",
        "model.num_classes = 4\n",
        "\n",
        "model = model.to(device)"
      ]
    },
    {
      "cell_type": "markdown",
      "metadata": {
        "id": "NJZUUtUm1hCS"
      },
      "source": [
        "O SqueezeNet termina com <code>Conv2d</code> em vez de <code>Linear</code>, por isso o ajuste final é diferente do ResNet ou AlexNet."
      ]
    },
    {
      "cell_type": "code",
      "execution_count": null,
      "metadata": {
        "colab": {
          "background_save": true,
          "base_uri": "https://localhost:8080/",
          "height": 657
        },
        "id": "SBq45kNovoeF",
        "outputId": "f1e8bbee-18b4-4445-c8fd-299af40e7976"
      },
      "outputs": [
        {
          "name": "stderr",
          "output_type": "stream",
          "text": [
            "Época 1/5: 100%|██████████| 320/320 [14:40<00:00,  2.75s/it]\n"
          ]
        },
        {
          "name": "stdout",
          "output_type": "stream",
          "text": [
            "Loss da época 1: 1.2547\n"
          ]
        },
        {
          "name": "stderr",
          "output_type": "stream",
          "text": [
            "Época 2/5: 100%|██████████| 320/320 [15:10<00:00,  2.84s/it]\n"
          ]
        },
        {
          "name": "stdout",
          "output_type": "stream",
          "text": [
            "Loss da época 2: 1.1476\n"
          ]
        },
        {
          "name": "stderr",
          "output_type": "stream",
          "text": [
            "Época 3/5: 100%|██████████| 320/320 [14:26<00:00,  2.71s/it]\n"
          ]
        },
        {
          "name": "stdout",
          "output_type": "stream",
          "text": [
            "Loss da época 3: 1.0277\n"
          ]
        },
        {
          "name": "stderr",
          "output_type": "stream",
          "text": [
            "Época 4/5: 100%|██████████| 320/320 [14:06<00:00,  2.64s/it]\n"
          ]
        },
        {
          "name": "stdout",
          "output_type": "stream",
          "text": [
            "Loss da época 4: 0.8493\n"
          ]
        },
        {
          "name": "stderr",
          "output_type": "stream",
          "text": [
            "Época 5/5: 100%|██████████| 320/320 [14:12<00:00,  2.66s/it]\n"
          ]
        },
        {
          "name": "stdout",
          "output_type": "stream",
          "text": [
            "Loss da época 5: 0.6824\n"
          ]
        },
        {
          "data": {
            "image/png": "[encoded data removed]",
            "text/plain": [
              "<Figure size 800x400 with 1 Axes>"
            ]
          },
          "metadata": {},
          "output_type": "display_data"
        }
      ],
      "source": [
        "# Número de exemplos por classe, na ordem dos rótulos\n",
        "class_counts = torch.tensor([172, 15, 634, 459], dtype=torch.float32)\n",
        "\n",
        "# Frequência relativa (dividido pelo total)\n",
        "total = class_counts.sum()\n",
        "freqs = class_counts / total\n",
        "\n",
        "# Peso = inverso da frequência\n",
        "weights = 1.0 / freqs\n",
        "\n",
        "# Normaliza para evitar explosão de gradientes\n",
        "weights = weights / weights.sum()\n",
        "\n",
        "# Enviar para GPU\n",
        "weights = weights.to(device)\n",
        "\n",
        "criterion = nn.CrossEntropyLoss(weight=weights)\n",
        "optimizer = optim.Adam(model.parameters(), lr=1e-4)\n",
        "\n",
        "from tqdm import tqdm\n",
        "\n",
        "# Inicializa histórico\n",
        "epoch_losses = []\n",
        "num_epochs = 7\n",
        "\n",
        "for epoch in range(num_epochs):\n",
        "    model.train()\n",
        "    running_loss = 0.0\n",
        "\n",
        "    # Loop por batch\n",
        "    for images, labels in tqdm(dataloader, desc=f\"Época {epoch+1}/{num_epochs}\"):\n",
        "        images, labels = images.to(device), labels.to(device)\n",
        "\n",
        "        optimizer.zero_grad()\n",
        "        outputs = model(images)\n",
        "        loss = criterion(outputs, labels)\n",
        "        loss.backward()\n",
        "        optimizer.step()\n",
        "\n",
        "        running_loss += loss.item()\n",
        "\n",
        "    # Média da época\n",
        "    epoch_loss = running_loss / len(dataloader)\n",
        "    epoch_losses.append(epoch_loss)\n",
        "    print(f\"Loss da época {epoch+1}: {epoch_loss:.4f}\")\n",
        "\n",
        "# Grafico por época\n",
        "plt.figure(figsize=(8, 4))\n",
        "plt.plot(range(1, num_epochs+1), epoch_losses, marker='o')\n",
        "plt.title(\"Loss médio por época\")\n",
        "plt.xlabel(\"Época\")\n",
        "plt.ylabel(\"Loss\")\n",
        "plt.grid(True)\n",
        "plt.tight_layout()\n",
        "plt.show()"
      ]
    },
    {
      "cell_type": "code",
      "execution_count": null,
      "metadata": {
        "colab": {
          "background_save": true
        },
        "id": "AIrkliH2v9_g"
      },
      "outputs": [],
      "source": [
        "# Caminho para o arquivo de teste\n",
        "test_path = '/kaggle/input/alzheimer-mri-disease-classification-dataset/Alzheimer MRI Disease Classification Dataset/Data/test-00000-of-00001-44110b9df98c5585.parquet'\n",
        "\n",
        "# Lê o Parquet\n",
        "df_test = pd.read_parquet(test_path)\n",
        "\n",
        "# Cria o dataset e o dataloader de teste\n",
        "test_dataset = AlzheimerDataset(df_test, transform=transform)\n",
        "test_dataloader = DataLoader(test_dataset, batch_size=16, shuffle=False)"
      ]
    },
    {
      "cell_type": "code",
      "execution_count": null,
      "metadata": {
        "colab": {
          "background_save": true,
          "base_uri": "https://localhost:8080/"
        },
        "id": "tIgWZgpzv_Lo",
        "outputId": "1e270c4f-c999-43f6-9f96-a66fdb196d9c"
      },
      "outputs": [
        {
          "name": "stderr",
          "output_type": "stream",
          "text": [
            "Avaliando: 100%|██████████| 80/80 [01:27<00:00,  1.10s/it]\n"
          ]
        }
      ],
      "source": [
        "# Coloque o modelo em modo de avaliação\n",
        "model.eval()\n",
        "\n",
        "y_true = []\n",
        "y_pred = []\n",
        "\n",
        "with torch.no_grad():\n",
        "  for images, labels in tqdm(test_dataloader, desc=\"Avaliando\"):\n",
        "    images = images.to(device)\n",
        "    labels = labels.to(device)\n",
        "    outputs = model(images)\n",
        "    _, preds = torch.max(outputs, 1)\n",
        "    y_true.extend(labels.cpu().numpy())\n",
        "    y_pred.extend(preds.cpu().numpy())"
      ]
    },
    {
      "cell_type": "code",
      "execution_count": null,
      "metadata": {
        "colab": {
          "background_save": true,
          "base_uri": "https://localhost:8080/"
        },
        "id": "M9yAL5f5wHwV",
        "outputId": "20f3c656-1add-4d35-fa73-f31545a9a0af"
      },
      "outputs": [
        {
          "name": "stdout",
          "output_type": "stream",
          "text": [
            "Acurácia: 0.6336\n",
            "Precisão: 0.7277\n",
            "Revocação: 0.6336\n",
            "F1-score: 0.6397\n",
            "\n",
            "Relatório por classe:\n",
            "                    precision    recall  f1-score   support\n",
            "\n",
            "     Mild_Demented       0.43      0.90      0.58       172\n",
            " Moderate_Demented       1.00      0.73      0.85        15\n",
            "      Non_Demented       0.91      0.51      0.65       634\n",
            "Very_Mild_Demented       0.58      0.70      0.63       459\n",
            "\n",
            "          accuracy                           0.63      1280\n",
            "         macro avg       0.73      0.71      0.68      1280\n",
            "      weighted avg       0.73      0.63      0.64      1280\n",
            "\n"
          ]
        }
      ],
      "source": [
        "accuracy = accuracy_score(y_true, y_pred)\n",
        "precision = precision_score(y_true, y_pred, average='weighted', zero_division=0)\n",
        "recall = recall_score(y_true, y_pred, average='weighted', zero_division=0)\n",
        "f1 = f1_score(y_true, y_pred, average='weighted', zero_division=0)\n",
        "\n",
        "print(f\"Acurácia: {accuracy:.4f}\")\n",
        "print(f\"Precisão: {precision:.4f}\")\n",
        "print(f\"Revocação: {recall:.4f}\")\n",
        "print(f\"F1-score: {f1:.4f}\")\n",
        "\n",
        "# Relatório completo por classe\n",
        "print(\"\\nRelatório por classe:\")\n",
        "print(classification_report(y_true, y_pred, target_names=[label_map[i] for i in range(4)], zero_division=0))"
      ]
    },
    {
      "cell_type": "code",
      "execution_count": null,
      "metadata": {
        "colab": {
          "background_save": true,
          "base_uri": "https://localhost:8080/"
        },
        "id": "MtvB5qa_wJVf",
        "outputId": "22e8674a-9ddc-487d-8a3f-8974efb0b678"
      },
      "outputs": [
        {
          "name": "stdout",
          "output_type": "stream",
          "text": [
            "Matriz de confusão:\n",
            "\n",
            "                    Mild_Demented  Moderate_Demented  Non_Demented  Very_Mild_Demented\n",
            "Mild_Demented                 154                  0             1                  17\n",
            "Moderate_Demented               3                 11             0                   1\n",
            "Non_Demented                   92                  0           324                 218\n",
            "Very_Mild_Demented            106                  0            31                 322\n"
          ]
        }
      ],
      "source": [
        "# Calcula a matriz\n",
        "cm = confusion_matrix(y_true, y_pred)\n",
        "\n",
        "# Converte para DataFrame com rótulos\n",
        "cm_df = pd.DataFrame(cm, index=label_map.values(), columns=label_map.values())\n",
        "\n",
        "print(\"Matriz de confusão:\\n\")\n",
        "print(cm_df.to_string())"
      ]
    }
  ],
  "metadata": {
    "accelerator": "GPU",
    "colab": {
      "gpuType": "T4",
      "provenance": []
    },
    "kernelspec": {
      "display_name": "Python 3",
      "name": "python3"
    },
    "language_info": {
      "name": "python"
    }
  },
  "nbformat": 4,
  "nbformat_minor": 0
}